{
 "cells": [
  {
   "cell_type": "code",
   "execution_count": 12,
   "metadata": {},
   "outputs": [],
   "source": [
    "from fenics import *\n",
    "from dolfin import *\n",
    "\n",
    "import numpy as np\n",
    "import matplotlib.pyplot as plt\n",
    "import h5py\n",
    "\n",
    "import pdb\n",
    "\n",
    "class PeriodicBoundary(SubDomain):\n",
    "\n",
    "    # Left boundary is \"target domain\" G\n",
    "    def inside(self, x, on_boundary):\n",
    "        # return bool(((x[0] < DOLFIN_EPS) or (x[0] > 1 + DOLFIN_EPS)) and on_boundary)\n",
    "        return bool((x[0] < DOLFIN_EPS) or (x[0] > (1.0 + DOLFIN_EPS)))# and on_boundary)\n",
    "        # return bool(- DOLFIN_EPS < x[0] < DOLFIN_EPS and on_boundary)\n",
    "\n",
    "    # Map right boundary (H) to left boundary (G)\n",
    "    def map(self, x, y):\n",
    "        y[0] = x[0] - 1\n",
    "\n",
    "# Create periodic boundary condition\n",
    "t_res = 100024#50000\n",
    "x_res = 128\n",
    "x_coordinate = np.linspace(0,1, x_res)\n",
    "t_coordinate = np.linspace(0,1, t_res)\n",
    "\n",
    "for _nu_ in [1e-4]:#[1e-4,1e-3,1e-2,1e-1]:\n",
    "    i = 0\n",
    "    solution = np.zeros((30,t_res,x_res))\n",
    "    # pdb.set_trace()\n",
    "    Amp = [np.random.uniform(), np.random.uniform()]\n",
    "    k = np.random.randint(8, size=2) * 2 * np.pi\n",
    "    phi = [np.random.uniform(0, 2 * np.pi), np.random.uniform(0, 2 * np.pi)]\n",
    "    # Create periodic boundary condition\n",
    "    pbc = PeriodicBoundary()\n",
    "\n",
    "    n = x_res\n",
    "    mesh = UnitIntervalMesh(n)\n",
    "    V = VectorFunctionSpace(mesh, \"P\", 1, constrained_domain = pbc) # setting up the space/mesh\n",
    "\n",
    "    initial_cond = \"{}*sin({}*x[0] + {}) + {}*sin({}*x[0] + {})\".format(Amp[0], k[0], phi[0],Amp[1], k[1], phi[1])  ## defnining initial cond\n",
    "    u = project(Expression((initial_cond,), degree = 1),  V)\n",
    "\n",
    "    u_next = Function(V) \n",
    "    v = TestFunction(V)\n",
    "\n",
    "    nu = Constant(_nu_) / np.pi # constant definintion \n",
    "\n",
    "    timestep = Constant(t_coordinate[1])\n",
    "    F = (inner((u_next - u)/timestep, v) + inner(grad(u_next)*u_next, v)+ nu*inner(grad(u_next), grad(v)))*dx\n",
    "    ### ^^^^^ definind non linear variational problem\n",
    "\n",
    "    # u0 = Constant(0.0)\n",
    "    # dbc = DirichletBoundary()\n",
    "    # bc = DirichletBC(V, [u0], dbc)\n",
    "\n",
    "    t = t_coordinate[1]#0.01\n",
    "    end = max(t_coordinate)\n",
    "    j = 1\n",
    "    solution[i,0,:] =  u.vector()[:]\n",
    "    while (t <= end):\n",
    "\n",
    "        # solve(F == 0, u_next, [], \n",
    "        #     solver_parameters={\"newton_solver\":{\"relative_tolerance\":1e-3,\n",
    "        #                                         \"absolute_tolerance\":1e-6}}) ## solving non linear problem\n",
    "        solve(F == 0, u_next, []) ## solving non linear problem\n",
    "\n",
    "\n",
    "        u.assign(u_next)\n",
    "        t += float(timestep)\n",
    "        solution[i,j,:] = u.vector()[:]\n",
    "        j += 1\n",
    "\n",
    "    f = h5py.File('/home/divyam123/fenics/burgers/1D_Burgers_Sols_Nu{}.hdf5'.format(_nu_), 'w')\n",
    "    f['x-coordinate'] = x_coordinate\n",
    "    f['t-coordinate'] = t_coordinate\n",
    "    f['tensor'] = solution\n",
    "    f.close()\n",
    "\n"
   ]
  },
  {
   "cell_type": "code",
   "execution_count": 11,
   "metadata": {},
   "outputs": [
    {
     "data": {
      "text/plain": [
       "10024"
      ]
     },
     "execution_count": 11,
     "metadata": {},
     "output_type": "execute_result"
    }
   ],
   "source": [
    "j"
   ]
  },
  {
   "cell_type": "code",
   "execution_count": null,
   "metadata": {},
   "outputs": [],
   "source": []
  }
 ],
 "metadata": {
  "kernelspec": {
   "display_name": "fenics",
   "language": "python",
   "name": "python3"
  },
  "language_info": {
   "codemirror_mode": {
    "name": "ipython",
    "version": 3
   },
   "file_extension": ".py",
   "mimetype": "text/x-python",
   "name": "python",
   "nbconvert_exporter": "python",
   "pygments_lexer": "ipython3",
   "version": "3.11.4"
  },
  "orig_nbformat": 4
 },
 "nbformat": 4,
 "nbformat_minor": 2
}
